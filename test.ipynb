{
 "cells": [
  {
   "cell_type": "markdown",
   "source": [
    "# Setup"
   ],
   "metadata": {}
  },
  {
   "cell_type": "code",
   "execution_count": 14,
   "source": [
    "from PIL import ImageGrab\r\n",
    "import win32gui, win32com.client\r\n",
    "import cv2\r\n",
    "import numpy as np\r\n",
    "import pytesseract\r\n",
    "import time"
   ],
   "outputs": [],
   "metadata": {}
  },
  {
   "cell_type": "code",
   "execution_count": 2,
   "source": [
    "tessdata_dir_config = '--tessdata-dir \"C:/msys64/mingw64/share/tessdata\"'"
   ],
   "outputs": [],
   "metadata": {}
  },
  {
   "cell_type": "code",
   "execution_count": 3,
   "source": [
    "#Get hwnd for dota 2 client window\r\n",
    "toplist, winlist = [], []\r\n",
    "def enum_cb(hwnd, results):\r\n",
    "    winlist.append((hwnd, win32gui.GetWindowText(hwnd)))\r\n",
    "win32gui.EnumWindows(enum_cb, toplist)\r\n",
    "\r\n",
    "dota_window = [(hwnd, title) for hwnd, title in winlist if title == \"Dota 2\"]\r\n",
    "dota_window = dota_window[0]\r\n",
    "hwnd = dota_window[0]\r\n",
    "\r\n",
    "vscode = [(hwnd, title) for hwnd, title in winlist if 'visual studio code' in title.lower()]\r\n",
    "vscode_hwnd = vscode[0][0]"
   ],
   "outputs": [],
   "metadata": {}
  },
  {
   "cell_type": "markdown",
   "source": [
    "# Screenshot"
   ],
   "metadata": {}
  },
  {
   "cell_type": "code",
   "execution_count": 4,
   "source": [
    "def dota_screenshot():\r\n",
    "    #Bring dota 2 window to the front, take screenshot \r\n",
    "    shell = win32com.client.Dispatch(\"WScript.Shell\")\r\n",
    "    shell.SendKeys('%')\r\n",
    "    win32gui.SetForegroundWindow(hwnd)\r\n",
    "\r\n",
    "    bbox = win32gui.GetWindowRect(hwnd)\r\n",
    "    img = ImageGrab.grab(bbox)\r\n",
    "\r\n",
    "    #img.show()\r\n",
    "    #img.save(\"./imgs/test_diff.png\")\r\n",
    "    #win32gui.SetForegroundWindow(vscode_hwnd)\r\n",
    "\r\n",
    "    return img\r\n"
   ],
   "outputs": [],
   "metadata": {}
  },
  {
   "cell_type": "code",
   "execution_count": null,
   "source": [
    "CARD_BBOX = (808, 298, 1111, 722)\r\n",
    "cropped = img.crop(CARD_BBOX)\r\n",
    "cropped.save(\"./imgs/card.png\")"
   ],
   "outputs": [],
   "metadata": {}
  },
  {
   "cell_type": "code",
   "execution_count": null,
   "source": [
    "image = cv2.imread(\"./imgs/test.png\")\r\n",
    "template = cv2.imread(\"./imgs/activated_button.png\")\r\n",
    "\r\n",
    "result = cv2.matchTemplate(image,template,cv2.TM_CCOEFF_NORMED)\r\n",
    "print(np.unravel_index(result.argmax(),result.shape))"
   ],
   "outputs": [],
   "metadata": {}
  },
  {
   "cell_type": "code",
   "execution_count": 48,
   "source": [
    "img = dota_screenshot()\r\n",
    "time.sleep(.4)\r\n",
    "win32gui.SetForegroundWindow(vscode_hwnd)\r\n",
    "img = cv2.cvtColor(np.array(img), cv2.COLOR_RGB2BGR)"
   ],
   "outputs": [],
   "metadata": {}
  },
  {
   "cell_type": "code",
   "execution_count": 49,
   "source": [
    "y, h = 294, 433\r\n",
    "x, w = 280, 1360\r\n",
    "#Load image\r\n",
    "original = img.copy()\r\n",
    "\r\n",
    "#Preprocess - crop, grayscale, threshold\r\n",
    "#img = img[y:y+h, x:x+w]\r\n",
    "gray = cv2.cvtColor(img, cv2.COLOR_BGR2GRAY)\r\n",
    "ret, thresh = cv2.threshold(gray, 35, 255, cv2.THRESH_BINARY)"
   ],
   "outputs": [],
   "metadata": {}
  },
  {
   "cell_type": "code",
   "execution_count": 50,
   "source": [
    "contours, hierarchy = cv2.findContours(image=thresh, mode=cv2.RETR_TREE, method=cv2.CHAIN_APPROX_SIMPLE)\r\n",
    "cards_bbox = []\r\n",
    "image_copy = img.copy()\r\n",
    "#cv2.drawContours(image=image_copy, contours=contours, hierarchy = hierarchy, contourIdx=-1, color=(0, 255, 0), thickness=2, lineType=cv2.LINE_AA, maxLevel=1)\r\n",
    "for i in range(len(contours)):\r\n",
    "    c = contours[i]\r\n",
    "    if hierarchy[0][i][-1] < 0:\r\n",
    "        cards_bbox.append(cv2.boundingRect(c))\r\n",
    "        x,y,w,h = cv2.boundingRect(c)\r\n",
    "        cv2.rectangle(image_copy, (x, y), (x + w, y + h), (36,255,12), 2)\r\n",
    "\r\n",
    "cv2.imshow('None approximation', image_copy)\r\n",
    "cv2.waitKey(0)\r\n",
    "cv2.imwrite('contours_none_image1.jpg', image_copy)\r\n",
    "cv2.destroyAllWindows()\r\n"
   ],
   "outputs": [],
   "metadata": {}
  },
  {
   "cell_type": "code",
   "execution_count": 42,
   "source": [
    "cards = []\r\n",
    "for bbox in cards_bbox:\r\n",
    "    x,y,w,h = bbox\r\n",
    "    print(h*w)\r\n",
    "    card = img[y:y+h, x:x+w].copy()\r\n",
    "    cards.append(card)\r\n",
    "print(1920*1080)"
   ],
   "outputs": [
    {
     "output_type": "stream",
     "name": "stdout",
     "text": [
      "80640\n",
      "80640\n",
      "126000\n",
      "2073600\n"
     ]
    }
   ],
   "metadata": {}
  },
  {
   "cell_type": "code",
   "execution_count": 44,
   "source": [
    "cv2.imshow('a', cards[-1])\r\n",
    "cv2.waitKey(0)\r\n",
    "cv2.destroyAllWindows()"
   ],
   "outputs": [],
   "metadata": {}
  },
  {
   "cell_type": "code",
   "execution_count": 45,
   "source": [
    "for card in [cards[-1]]:\r\n",
    "    img_rgb = cv2.cvtColor(card, cv2.COLOR_BGR2RGB)\r\n",
    "    out = pytesseract.image_to_string(img_rgb, config = tessdata_dir_config)\r\n",
    "    print(out)"
   ],
   "outputs": [
    {
     "output_type": "stream",
     "name": "stdout",
     "text": [
      " \n",
      "\n",
      "4\n",
      "\n",
      "old eLeVeN Vici Gaming\n",
      "\n",
      "Core b\n",
      "\n",
      "GOLD CARD\n",
      "\n",
      "Kills +20%\n",
      "Roshan Kills 45%\n",
      "‘Teamfight 425%\n",
      "‘Obs Wards Planted — +10%\n",
      "RunesGrabbed 15H,\n",
      "\f\n"
     ]
    }
   ],
   "metadata": {}
  },
  {
   "cell_type": "markdown",
   "source": [
    "# Read text"
   ],
   "metadata": {}
  },
  {
   "cell_type": "code",
   "execution_count": 102,
   "source": [
    "img_cv = cv2.imread(\"./imgs/card.png\")\r\n",
    "\r\n",
    "# By default OpenCV stores images in BGR format and since pytesseract assumes RGB format,\r\n",
    "# we need to convert from BGR to RGB format/mode:\r\n",
    "img_rgb = cv2.cvtColor(img_cv, cv2.COLOR_BGR2RGB)\r\n",
    "out = pytesseract.image_to_string(img_rgb, config = tessdata_dir_config)"
   ],
   "outputs": [],
   "metadata": {}
  },
  {
   "cell_type": "code",
   "execution_count": 106,
   "source": [
    "out.split('\\n')"
   ],
   "outputs": [
    {
     "output_type": "execute_result",
     "data": {
      "text/plain": [
       "['Support',\n",
       " '',\n",
       " 'SILVER CARD',\n",
       " 'Creep Score',\n",
       " 'GPM',\n",
       " 'Teamfight',\n",
       " '',\n",
       " ' ',\n",
       " '',\n",
       " 'Evil Geniuses',\n",
       " '',\n",
       " '#10%',\n",
       " '+#10%',\n",
       " '15%',\n",
       " '\\x0c']"
      ]
     },
     "metadata": {},
     "execution_count": 106
    }
   ],
   "metadata": {}
  },
  {
   "cell_type": "code",
   "execution_count": null,
   "source": [
    "from PIL import ImageChops, Image\r\n",
    "\r\n",
    "im1 = Image.open(\"./imgs/test_diff.png\")\r\n",
    "im2 = Image.open(\"./imgs/test.png\")\r\n",
    "\r\n",
    "diff = ImageChops.difference(im2, im1)\r\n",
    "diff"
   ],
   "outputs": [],
   "metadata": {}
  },
  {
   "cell_type": "code",
   "execution_count": null,
   "source": [
    "image = cv2.imread(\"./imgs/test.png\")\r\n",
    "template = cv2.imread(\"./imgs/deactivated_button.png\")\r\n",
    "\r\n",
    "result = cv2.matchTemplate(image,template,cv2.TM_CCOEFF_NORMED)\r\n",
    "print(np.unravel_index(result.argmax(),result.shape))"
   ],
   "outputs": [],
   "metadata": {}
  }
 ],
 "metadata": {
  "orig_nbformat": 4,
  "language_info": {
   "name": "python",
   "version": "3.9.0",
   "mimetype": "text/x-python",
   "codemirror_mode": {
    "name": "ipython",
    "version": 3
   },
   "pygments_lexer": "ipython3",
   "nbconvert_exporter": "python",
   "file_extension": ".py"
  },
  "kernelspec": {
   "name": "python3",
   "display_name": "Python 3.9.0 64-bit ('.venv': venv)"
  },
  "interpreter": {
   "hash": "1e7f52e3a83145e3157d8bbecef0ce6bdeabe9fa717a599393880804d369fd41"
  }
 },
 "nbformat": 4,
 "nbformat_minor": 2
}